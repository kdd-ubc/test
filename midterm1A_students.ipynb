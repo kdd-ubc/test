{
 "cells": [
  {
   "cell_type": "markdown",
   "metadata": {},
   "source": [
    "# MATH 303 Midterm / morning session\n",
    "\n",
    "## Student ID\n",
    "\n",
    "Enter your student ID number in the cell below using the command:\n",
    "\n",
    "```\n",
    "id_student = XXXXXXXX # Replace XXXXXXXX with your student ID number\n",
    "```"
   ]
  },
  {
   "cell_type": "code",
   "execution_count": null,
   "metadata": {
    "deletable": false,
    "nbgrader": {
     "cell_type": "code",
     "checksum": "3139c9c515f9af3430d34572390f1c30",
     "grade": false,
     "grade_id": "cell-48907aac1685dbe7",
     "locked": false,
     "schema_version": 3,
     "solution": true,
     "task": false
    }
   },
   "outputs": [],
   "source": [
    "id_student = "
   ]
  },
  {
   "cell_type": "markdown",
   "metadata": {},
   "source": [
    "Run the test in the cell below to verify your student ID number:"
   ]
  },
  {
   "cell_type": "code",
   "execution_count": null,
   "metadata": {
    "deletable": false,
    "editable": false,
    "nbgrader": {
     "cell_type": "code",
     "checksum": "a5b4b10a1035826a3ccb645f52dac1c7",
     "grade": true,
     "grade_id": "cell-720ebd2f7ed7634a",
     "locked": true,
     "points": 0,
     "schema_version": 3,
     "solution": false,
     "task": false
    }
   },
   "outputs": [],
   "source": [
    "assert isinstance(id_student,int) , \"Your student ID should be an integer.\"\n",
    "print(\"Your student ID is\",id_student)"
   ]
  },
  {
   "cell_type": "markdown",
   "metadata": {},
   "source": [
    "## Problem 1\n",
    "\n",
    "Run the following cell and note the matrix $P$ and state $i$ to be used in Problem 1."
   ]
  },
  {
   "cell_type": "code",
   "execution_count": null,
   "metadata": {
    "deletable": false,
    "editable": false,
    "nbgrader": {
     "cell_type": "code",
     "checksum": "cdf16a98af8a075ba42331dc4bd27fba",
     "grade": false,
     "grade_id": "cell-a0188076d221caeb",
     "locked": true,
     "schema_version": 3,
     "solution": false,
     "task": false
    }
   },
   "outputs": [],
   "source": [
    "from sympy import latex, Matrix\n",
    "from IPython.display import display, Math\n",
    "\n",
    "y = str(id_student); a = id_student + int(y[2]); b = a % 4; i = [5,3,4,2];\n",
    "P1 = [[[0.0,0.0,0.0,1.0,0.0],[0.0,0.5,0.0,0.0,0.5],[0.2,0.0,0.6,0.0,0.2],[1.0,0.0,0.0,0.0,0.0],[0.0,0.4,0.0,0.0,0.6]],\n",
    "      [[0.8,0.0,0.2,0.0,0.0],[0.0,0.0,0.0,1.0,0.0],[0.4,0.0,0.6,0.0,0.0],[0.0,1.0,0.0,0.0,0.0],[0.0,0.0,0.1,0.1,0.8]],\n",
    "      [[0.2,0.6,0.2,0.0,0.0],[0.0,0.0,0.0,0.0,1.0],[0.0,0.0,0.2,0.8,0.0],[0.0,0.0,0.4,0.6,0.0],[0.0,1.0,0.0,0.0,0.0]],\n",
    "      [[0.4,0.6,0.0,0.0,0.0],[0.5,0.5,0.0,0.0,0.0],[0.0,0.0,0.0,0.0,1.0],[0.3,0.0,0.0,0.3,0.4],[0.0,0.0,1.0,0.0,0.0]]]\n",
    "\n",
    "display(Math('P = ' + latex(Matrix(P1[b])))); display(Math('i = ' + str(i[b])));"
   ]
  },
  {
   "cell_type": "markdown",
   "metadata": {},
   "source": [
    "## Problem 2\n",
    "\n",
    "Run the following cell and note the transition probabilities to be used in Problem 2."
   ]
  },
  {
   "cell_type": "code",
   "execution_count": null,
   "metadata": {
    "deletable": false,
    "editable": false,
    "nbgrader": {
     "cell_type": "code",
     "checksum": "87836beeb85793c0527ec41922a82e64",
     "grade": false,
     "grade_id": "cell-40db4b5986f9ae09",
     "locked": true,
     "schema_version": 3,
     "solution": false,
     "task": false
    }
   },
   "outputs": [],
   "source": [
    "from IPython.display import display, Math\n",
    "\n",
    "y = str(id_student); a = id_student + int(y[4]); b = a % 4;\n",
    "P2 = [[0.25,0.75,0.25,0.5,0.25],[0.5,0.5,0.5,0.25,0.25],[0.2,0.8,0.2,0.4,0.4],[0.6,0.4,0.6,0.2,0.2]]\n",
    "\n",
    "display(Math('p_{0,1} = ' + str(P2[b][0]) + ', p_{0,0} = ' + str(P2[b][1])))\n",
    "display(Math('\\\\text{For all } i>0,\\; p_{i,i+1} = ' + str(P2[b][2]) + ', p_{i,i-1} = ' + str(P2[b][3]) + ' \\\\text{ and } p_{i,i} = ' + str(P2[b][4])))"
   ]
  },
  {
   "cell_type": "markdown",
   "metadata": {},
   "source": [
    "## Problem 3\n",
    "\n",
    "Run the following cell and note the state $i$ to be used in Problem 3."
   ]
  },
  {
   "cell_type": "code",
   "execution_count": null,
   "metadata": {
    "deletable": false,
    "editable": false,
    "nbgrader": {
     "cell_type": "code",
     "checksum": "4b5cdcd4dad93aaf648b0099d7424b88",
     "grade": false,
     "grade_id": "cell-793619c9dbdacd6f",
     "locked": true,
     "schema_version": 3,
     "solution": false,
     "task": false
    }
   },
   "outputs": [],
   "source": [
    "y = str(id_student); a = id_student + int(y[3]); b = a % 4\n",
    "\n",
    "display(Math('i = {}'.format(b + 1)))"
   ]
  },
  {
   "cell_type": "markdown",
   "metadata": {},
   "source": [
    "## Problem 4\n",
    "\n",
    "Consider the parameters $p,q$ and $r$ obtained after running the following cell."
   ]
  },
  {
   "cell_type": "code",
   "execution_count": null,
   "metadata": {
    "deletable": false,
    "editable": false,
    "nbgrader": {
     "cell_type": "code",
     "checksum": "20c6263c5138d5ea22a7047fc798fd57",
     "grade": false,
     "grade_id": "cell-e65436c7e651924a",
     "locked": true,
     "schema_version": 3,
     "solution": false,
     "task": false
    }
   },
   "outputs": [],
   "source": [
    "from IPython.display import display, Math\n",
    "\n",
    "y = str(id_student); a = int(y[-1]); b = a % 4;\n",
    "P4 = [[0.5,0.3,0.2],[0.3,0.5,0.7],[0.4,0.7,0.5],[0.6,0.5,0.4]]\n",
    "p,q,r = P4[b]\n",
    "\n",
    "display(Math('p = {}'.format(p))); display(Math('q = {}'.format(q))); display(Math('r = {}'.format(r)));"
   ]
  },
  {
   "cell_type": "markdown",
   "metadata": {},
   "source": [
    "A student makes trips between UBC and their home. If it rains (r), the student takes the bus (B). If it is sunny (s), the student can either bike (b) with probability $p$ or take the bus (with probability $1-p$). If the weather is sunny, the probability that it is still sunny on the next trip is $q$ and if it is raining, the probability that it still rains on the next trip is $r$.\n",
    "\n",
    "We consider the Markov chain defined by the joint observation of the weather and the transport used by the student: Since the student only takes the bus when it rains, there are three states: $Br$ (it rains and the student takes a bus), $Bs$ (it is sunny and the student takes the bus), and $bs$ (it is sunny and the student bikes)"
   ]
  },
  {
   "cell_type": "markdown",
   "metadata": {},
   "source": [
    "### Problem 4(a)\n",
    "\n",
    "Using the values for $p,q$ and $r$ displayed above, find the transition matrix $P$ associated with the process. Enter the values of the matrix $P$ in the cell below and run it. Note the order of the states:\n",
    "\n",
    "* State 1: Rain and student takes the bus (Br)\n",
    "* State 2: Sunny and student takes the bus (Bs)\n",
    "* State 3: Sunny and student rides a bike (bs)\n",
    "\n",
    "Enter the values of $P$ in the cell below:"
   ]
  },
  {
   "cell_type": "code",
   "execution_count": null,
   "metadata": {
    "deletable": false,
    "nbgrader": {
     "cell_type": "code",
     "checksum": "7bf57844509b9dd5b45787c7bff3ef88",
     "grade": false,
     "grade_id": "cell-44006d507bd32821",
     "locked": false,
     "schema_version": 3,
     "solution": true,
     "task": false
    }
   },
   "outputs": [],
   "source": [
    "P = [[x,x,x],[x,x,x],[x,x,x]] # Complete each entry marked with 'x' of the transition matrix with the appropriate value"
   ]
  },
  {
   "cell_type": "code",
   "execution_count": null,
   "metadata": {
    "deletable": false,
    "editable": false,
    "nbgrader": {
     "cell_type": "code",
     "checksum": "f99a830865397af04926894abfa722b4",
     "grade": true,
     "grade_id": "cell-55dc83f779966789",
     "locked": true,
     "points": 1,
     "schema_version": 3,
     "solution": false,
     "task": false
    }
   },
   "outputs": [],
   "source": [
    "\"Verify P has the correct size.\"\n",
    "import numpy as np\n",
    "assert np.array(P).shape == (3,3)\n",
    "print(\"Problem 4a Test 1: Success!\")"
   ]
  },
  {
   "cell_type": "code",
   "execution_count": null,
   "metadata": {
    "deletable": false,
    "editable": false,
    "nbgrader": {
     "cell_type": "code",
     "checksum": "bb808f60a542fb40f7e51eacb82a0754",
     "grade": true,
     "grade_id": "cell-b1fa435fe6b8dc2f",
     "locked": true,
     "points": 1,
     "schema_version": 3,
     "solution": false,
     "task": false
    }
   },
   "outputs": [],
   "source": [
    "\"Verify rows of P add to 1.\"\n",
    "import numpy as np\n",
    "assert np.allclose(np.array(P).sum(axis=1),[1,1,1])\n",
    "print(\"Problem 4a Test 2: Success!\")"
   ]
  },
  {
   "cell_type": "code",
   "execution_count": null,
   "metadata": {
    "deletable": false,
    "editable": false,
    "nbgrader": {
     "cell_type": "code",
     "checksum": "cba988e0c196e7829529966347b307dd",
     "grade": true,
     "grade_id": "cell-4849f858c48d605e",
     "locked": true,
     "points": 2,
     "schema_version": 3,
     "solution": false,
     "task": false
    }
   },
   "outputs": [],
   "source": [
    "\"Verify entries of P. This cell contains hidden tests.\"\n",
    "import numpy as np\n",
    "assert np.allclose(np.array(P).sum(axis=1),[1,1,1])\n",
    "print(\"Problem 4a Test 3: Success!\")"
   ]
  },
  {
   "cell_type": "markdown",
   "metadata": {},
   "source": [
    "### Question 4(b)\n",
    "\n",
    "Run the following cell. This should give you an empirical estimate of the stationary distribution $\\mu$ (we assume it exists)."
   ]
  },
  {
   "cell_type": "code",
   "execution_count": null,
   "metadata": {},
   "outputs": [],
   "source": [
    "import numpy as np\n",
    "\n",
    "class MarkovChain(object):\n",
    "    def __init__(self, transition_matrix, states):\n",
    "        self.transition_matrix = np.atleast_2d(transition_matrix)\n",
    "        self.states = states\n",
    "        self.index_dict = {self.states[index]: index for index in range(len(self.states))}\n",
    "        self.state_dict = {index: self.states[index] for index in range(len(self.states))}\n",
    " \n",
    "    def next_state(self, current_state):\n",
    "        return np.random.choice(self.states,p=self.transition_matrix[self.index_dict[current_state], :])\n",
    " \n",
    "    def generate_states(self, current_state, no=10):\n",
    "        future_states = []\n",
    "        for i in range(no):\n",
    "            next_state = self.next_state(current_state)\n",
    "            future_states.append(next_state)\n",
    "            current_state = next_state\n",
    "        return future_states\n",
    "    \n",
    "def get_empirical_dist(states, transition_matrix, initial_state, nrealizations, N):\n",
    "    chain = MarkovChain(transition_matrix=transition_matrix, states=states)\n",
    "    arr = np.zeros(((N+1), nrealizations))\n",
    "    for r in range(nrealizations):\n",
    "        simulation = chain.generate_states(current_state=initial_state, no=(N+1))\n",
    "        arr[:, r] = np.array(simulation)\n",
    "        nstates = len(states)\n",
    "        count = np.zeros(nstates)\n",
    "    for i in range(nstates):\n",
    "        state = int(states[i])\n",
    "        index = np.where(arr[N] == state)\n",
    "        count[i] = len(index[0])        \n",
    "        distribution = count/nrealizations\n",
    "    return distribution\n",
    "\n",
    "# Let -1 denote 'br', 0 denote 'Bs' and 1 denote 'bs'.\n",
    "empirical_distribution = get_empirical_dist(states=[\"-1\", \"0\", \"1\"], transition_matrix=P, initial_state=\"-1\", nrealizations=1000, N=10)\n",
    "\n",
    "print('The empirical stationary distribution is',empirical_distribution)"
   ]
  },
  {
   "cell_type": "markdown",
   "metadata": {},
   "source": [
    "Assuming that the distribution of the first trip followed $\\mu$ and using results from Problem 4(a), enter below (as `proba`) the probability that given that a student takes a bus on a trip, they biked during the previous trip."
   ]
  },
  {
   "cell_type": "code",
   "execution_count": null,
   "metadata": {
    "deletable": false,
    "nbgrader": {
     "cell_type": "code",
     "checksum": "34b9546ab43a35d8c76934d37c13c4ac",
     "grade": false,
     "grade_id": "cell-2b6c9c8bdea10cc3",
     "locked": false,
     "schema_version": 3,
     "solution": true,
     "task": false
    }
   },
   "outputs": [],
   "source": [
    "proba = "
   ]
  },
  {
   "cell_type": "code",
   "execution_count": null,
   "metadata": {
    "deletable": false,
    "editable": false,
    "nbgrader": {
     "cell_type": "code",
     "checksum": "14cdb16342e23213780f1587bfafe425",
     "grade": true,
     "grade_id": "cell-64d86635b1bbd3ce",
     "locked": true,
     "points": 1,
     "schema_version": 3,
     "solution": false,
     "task": false
    }
   },
   "outputs": [],
   "source": [
    "\"Verify proba is a number between 0 and 1.\"\n",
    "assert proba <= 1 and proba >= 0 , \"Probability should be between 0 and 1.\"\n",
    "print(\"Problem 4b Test 1: Success!\")"
   ]
  },
  {
   "cell_type": "code",
   "execution_count": null,
   "metadata": {
    "deletable": false,
    "editable": false,
    "nbgrader": {
     "cell_type": "code",
     "checksum": "198c46b49376f4eea4db189e5d3160bb",
     "grade": true,
     "grade_id": "cell-a01e1dc729be8742",
     "locked": true,
     "points": 0,
     "schema_version": 3,
     "solution": false,
     "task": false
    }
   },
   "outputs": [],
   "source": [
    "\"Verify proba has the correct value. This cell contains hidden tests.\"\n",
    "assert proba <= 1\n",
    "print(\"Problem 4b Test 2: Success!\")"
   ]
  }
 ],
 "metadata": {
  "kernelspec": {
   "display_name": "Python 3",
   "language": "python",
   "name": "python3"
  },
  "language_info": {
   "codemirror_mode": {
    "name": "ipython",
    "version": 3
   },
   "file_extension": ".py",
   "mimetype": "text/x-python",
   "name": "python",
   "nbconvert_exporter": "python",
   "pygments_lexer": "ipython3",
   "version": "3.8.5"
  }
 },
 "nbformat": 4,
 "nbformat_minor": 4
}
