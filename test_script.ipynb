{
 "cells": [
  {
   "cell_type": "markdown",
   "metadata": {},
   "source": [
    "# MATH 303 Midterm Test Script\n",
    "\n",
    "\n",
    "\n",
    "* You will be asked to run and use Jupyter notebooks during the midterm exam\n",
    "* Follow the instructions below to run the notebook\n",
    "* Submit this notebook to Canvas on the appropriate page."
   ]
  },
  {
   "cell_type": "markdown",
   "metadata": {},
   "source": [
    "### Instructions\n",
    "\n",
    " Copy, paste and modify the command line above as described in comments:\n",
    "\n",
    "    id_student = XXX # Replace XXX with your student ID number (this is the number displayed on your UBC student card)"
   ]
  },
  {
   "cell_type": "code",
   "execution_count": null,
   "metadata": {},
   "outputs": [],
   "source": [
    "#Write code here"
   ]
  },
  {
   "cell_type": "code",
   "execution_count": null,
   "metadata": {},
   "outputs": [],
   "source": [
    "# Run the code and this block to display your student ID\n",
    "assert isinstance(id_student,int)\n",
    "print(\"Success! Your student ID is \", id_student)"
   ]
  }
 ],
 "metadata": {
  "kernelspec": {
   "display_name": "Python 3",
   "language": "python",
   "name": "python3"
  },
  "language_info": {
   "codemirror_mode": {
    "name": "ipython",
    "version": 3
   },
   "file_extension": ".py",
   "mimetype": "text/x-python",
   "name": "python",
   "nbconvert_exporter": "python",
   "pygments_lexer": "ipython3",
   "version": "3.7.3"
  }
 },
 "nbformat": 4,
 "nbformat_minor": 4
}
