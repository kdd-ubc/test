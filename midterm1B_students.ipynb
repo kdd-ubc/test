{
 "cells": [
  {
   "cell_type": "markdown",
   "metadata": {},
   "source": [
    "# MATH 303 Midterm / Evening session\n",
    "\n",
    "\n",
    "## Student ID\n",
    "\n",
    "Enter your student ID number in the cell below using the command:\n",
    "\n",
    "```\n",
    "id_student = XXXXXXXX # Replace XXXXXXXX with your student ID number\n",
    "```"
   ]
  },
  {
   "cell_type": "code",
   "execution_count": null,
   "metadata": {
    "deletable": false,
    "nbgrader": {
     "cell_type": "code",
     "checksum": "a67c80785cb60b0698ba91c32d913ec0",
     "grade": false,
     "grade_id": "cell-d38091f9b32f40a5",
     "locked": false,
     "schema_version": 3,
     "solution": true,
     "task": false
    }
   },
   "outputs": [],
   "source": [
    "id_student = "
   ]
  },
  {
   "cell_type": "markdown",
   "metadata": {},
   "source": [
    "Run the test in the cell below to verify your student ID number:"
   ]
  },
  {
   "cell_type": "code",
   "execution_count": null,
   "metadata": {
    "deletable": false,
    "editable": false,
    "nbgrader": {
     "cell_type": "code",
     "checksum": "6d51ed64c5c99b0ee772ddc8ad6f8ade",
     "grade": true,
     "grade_id": "cell-11a780af8ba60354",
     "locked": true,
     "points": 0,
     "schema_version": 3,
     "solution": false,
     "task": false
    }
   },
   "outputs": [],
   "source": [
    "assert isinstance(id_student,int) , \"Your student ID should be an integer.\"\n",
    "print(\"Your student ID is\",id_student)"
   ]
  },
  {
   "cell_type": "markdown",
   "metadata": {},
   "source": [
    "## Problem 1\n",
    "\n",
    "Run the following cell and note the matrix $P$ and states $i$ and $j$ to be used in Problem 1."
   ]
  },
  {
   "cell_type": "code",
   "execution_count": null,
   "metadata": {
    "deletable": false,
    "editable": false,
    "nbgrader": {
     "cell_type": "code",
     "checksum": "0af5839ffacc9c08ea604ea5d3da1afd",
     "grade": false,
     "grade_id": "cell-61ef34cf11c7c2b7",
     "locked": true,
     "schema_version": 3,
     "solution": false,
     "task": false
    }
   },
   "outputs": [],
   "source": [
    "from sympy import latex, Matrix\n",
    "from IPython.display import display, Math\n",
    "\n",
    "y = str(id_student); a = 7*id_student + int(y[3]); b = a % 4; i = [1,2,2,1]; j = [3,3,4,4];\n",
    "P1 = [[[0.0,1.0,0.0,0.0,0.0],[0.4,0.6,0.0,0.0,0.0],[0.5,0.0,0.0,0.5,0.0],[0.0,0.0,0.5,0.0,0.5],[0.0,0.0,0.0,0.0,1.0]],\n",
    "      [[0.5,0.5,0.0,0.0,0.0],[1.0,0.0,0.0,0.0,0.0],[0.0,0.0,0.0,0.4,0.6],[0.0,0.6,0.4,0.0,0.0],[0.0,0.0,0.0,0.0,1.0]],\n",
    "      [[0.6,0.4,0.0,0.0,0.0],[1.0,0.0,0.0,0.0,0.0],[0.0,0.5,0.0,0.5,0.0],[0.0,0.0,0.5,0.0,0.5],[0.0,0.0,0.0,0.0,1.0]],\n",
    "      [[0.0,1.0,0.0,0.0,0.0],[0.5,0.5,0.0,0.0,0.0],[0.0,0.0,0.0,0.4,0.6],[0.0,0.6,0.4,0.0,0.0],[0.0,0.0,0.0,0.0,1.0]]]\n",
    "\n",
    "display(Math('P = ' + latex(Matrix(P1[b])))); display(Math('i = ' + str(i[b]))); display(Math('j = ' + str(j[b])));"
   ]
  },
  {
   "cell_type": "markdown",
   "metadata": {},
   "source": [
    "## Problem 2\n",
    "\n",
    "Run the following cell and note the transition probabilities to be used in Problem 2."
   ]
  },
  {
   "cell_type": "code",
   "execution_count": null,
   "metadata": {
    "deletable": false,
    "editable": false,
    "nbgrader": {
     "cell_type": "code",
     "checksum": "7faa18e1b2be7a8123f3e575972a45b6",
     "grade": false,
     "grade_id": "cell-192fc42fbf584c04",
     "locked": true,
     "schema_version": 3,
     "solution": false,
     "task": false
    }
   },
   "outputs": [],
   "source": [
    "from IPython.display import display, Math\n",
    "\n",
    "y = str(id_student); a = 5*id_student+ int(y[4]); b = a % 4;\n",
    "P2 = [[1.0,0.8,0.2],[1.0,0.6,0.4],[1.0,0.75,0.25],[1.0,0.9,0.1]]\n",
    "\n",
    "display(Math('p_{0,0} = ' + str(P2[b][0])))\n",
    "display(Math('\\\\text{For all } i>0,\\; p_{i,i+1} = ' + str(P2[b][1]) + ', p_{i,i-1} = ' + str(P2[b][2])))"
   ]
  },
  {
   "cell_type": "markdown",
   "metadata": {},
   "source": [
    "## Problem 3\n",
    "\n",
    "Run the following cell and note the state $i$ to be used in Problem 3."
   ]
  },
  {
   "cell_type": "code",
   "execution_count": null,
   "metadata": {
    "deletable": false,
    "editable": false,
    "nbgrader": {
     "cell_type": "code",
     "checksum": "df9f753a0c7f69d906302834dd98d62e",
     "grade": false,
     "grade_id": "cell-fe8d4bbdc4c1d389",
     "locked": true,
     "schema_version": 3,
     "solution": false,
     "task": false
    }
   },
   "outputs": [],
   "source": [
    "y = str(id_student); a = id_student + int(y[3]); b = a % 4;\n",
    "\n",
    "display(Math('i = {}'.format(b + 1)))"
   ]
  },
  {
   "cell_type": "markdown",
   "metadata": {},
   "source": [
    "## Problem 4\n",
    "\n",
    "Consider the parameters $p$ and $q$ obtained after running the following cell."
   ]
  },
  {
   "cell_type": "code",
   "execution_count": null,
   "metadata": {
    "deletable": false,
    "editable": false,
    "nbgrader": {
     "cell_type": "code",
     "checksum": "6398d74b9c73914a0beaf8fe6c3b38cc",
     "grade": false,
     "grade_id": "cell-c1b06dbcac733281",
     "locked": true,
     "schema_version": 3,
     "solution": false,
     "task": false
    }
   },
   "outputs": [],
   "source": [
    "from IPython.display import display, Math\n",
    "\n",
    "y = str(id_student); a = int(y[-1]); b = a % 4;\n",
    "P4 = [[0.5,0.3],[0.3,0.4],[0.4,0.7],[0.6,0.3]]\n",
    "p,q = P4[b]\n",
    "\n",
    "display(Math('p = {}'.format(p))); display(Math('q = {}'.format(q)));"
   ]
  },
  {
   "cell_type": "markdown",
   "metadata": {},
   "source": [
    "Pascal plays a videogame, with two levels to complete successively in order to finish it. At each round, Pascal can either complete the level with probability (w.p.) $p$, or lose w.p. $1-p$. If he loses, he has to start from the beginning and can  either decide to quite the game with probability $q$, or continue playing (w.p. $1-q$).\n",
    "\n",
    "We consider the Markov chain defined by the following states (and note the order):\n",
    "\n",
    "* Pascal has quit (state \"0\")\n",
    "* Pascal plays the first level (state \"1\")\n",
    "* Pascal plays the second level (state \"2\")\n",
    "* Pascal has finished the game (state \"3\")"
   ]
  },
  {
   "cell_type": "markdown",
   "metadata": {},
   "source": [
    "### Problem 4(a)\n",
    "\n",
    "Using the values for $p$ and $q$ displayed above, find the transition matrix $P$ associated with the process. Enter the values of the matrix $P$ in the cell below and run the cell."
   ]
  },
  {
   "cell_type": "code",
   "execution_count": null,
   "metadata": {
    "deletable": false,
    "nbgrader": {
     "cell_type": "code",
     "checksum": "5bb2e4b7c1b403fa49f521d67eccf444",
     "grade": false,
     "grade_id": "cell-71593d42d41b3a86",
     "locked": false,
     "schema_version": 3,
     "solution": true,
     "task": false
    }
   },
   "outputs": [],
   "source": [
    "P = [[x,x,x,x],[x,x,x,x],[x,x,x,x],[x,x,x,x]] # Complete each entry marked with 'x' of the transition matrix with the appropriate value"
   ]
  },
  {
   "cell_type": "code",
   "execution_count": null,
   "metadata": {
    "deletable": false,
    "editable": false,
    "nbgrader": {
     "cell_type": "code",
     "checksum": "6b9a539a4e93a4c09f66b089362e70ee",
     "grade": true,
     "grade_id": "cell-23122778a5b20901",
     "locked": true,
     "points": 1,
     "schema_version": 3,
     "solution": false,
     "task": false
    }
   },
   "outputs": [],
   "source": [
    "\"Verify P has the correct size.\"\n",
    "import numpy as np\n",
    "assert np.array(P).shape == (4,4)\n",
    "print(\"Problem 4a Test 1: Success!\")"
   ]
  },
  {
   "cell_type": "code",
   "execution_count": null,
   "metadata": {
    "deletable": false,
    "editable": false,
    "nbgrader": {
     "cell_type": "code",
     "checksum": "15465676939ed949076e337991ce8f94",
     "grade": true,
     "grade_id": "cell-f344555fc43f9d2c",
     "locked": true,
     "points": 1,
     "schema_version": 3,
     "solution": false,
     "task": false
    }
   },
   "outputs": [],
   "source": [
    "\"Verify rows of P add to 1.\"\n",
    "import numpy as np\n",
    "assert np.allclose(np.array(P).sum(axis=1),[1,1,1,1])\n",
    "print(\"Problem 4a Test 2: Success!\")"
   ]
  },
  {
   "cell_type": "code",
   "execution_count": null,
   "metadata": {
    "deletable": false,
    "editable": false,
    "nbgrader": {
     "cell_type": "code",
     "checksum": "d757e2b18b17251c937927a0becbbb6e",
     "grade": true,
     "grade_id": "cell-49c2de9f3c25fd04",
     "locked": true,
     "points": 2,
     "schema_version": 3,
     "solution": false,
     "task": false
    }
   },
   "outputs": [],
   "source": [
    "\"Verify entries of P. This cell contains hidden tests.\"\n",
    "import numpy as np\n",
    "assert np.allclose(np.array(P)[0],[1,0,0,0])\n",
    "print(\"Problem 4a Test 3: Success!\")"
   ]
  },
  {
   "cell_type": "markdown",
   "metadata": {},
   "source": [
    "### Problem 4(b) \n",
    "\n",
    "You saw in week 2 that the mean time spent in a transient state can be found by inverting the following matrix $\\mathbf{S}=(\\mathbf{I}-\\mathbf{P}_T)^{-1}$, where $\\mathbf{P}_T$ is the transition matrix of transient states only and $(S)_{ij}$ is the expected number of times where the Markov Chain is in transient state $j$, given that it starts in transient state $i$.\n",
    "\n",
    "Enter the values of the matrix $\\mathbf{P}_T$ in the cell below and run the cell. (Make sure to put the transient states in the correct order.)"
   ]
  },
  {
   "cell_type": "code",
   "execution_count": null,
   "metadata": {
    "deletable": false,
    "nbgrader": {
     "cell_type": "code",
     "checksum": "0d20bd8174d5cc5bf295175e2dfc7551",
     "grade": false,
     "grade_id": "cell-4f33345fffb3828f",
     "locked": false,
     "schema_version": 3,
     "solution": true,
     "task": false
    }
   },
   "outputs": [],
   "source": [
    "import numpy as np\n",
    "\n",
    "PT = \n",
    "\n",
    "PTmatrix = np.matrix(PT)\n",
    "S = np.linalg.inv(np.identity(PTmatrix.shape[0]) - PTmatrix)\n",
    "display(Math('S = ' + latex(Matrix(S))))"
   ]
  },
  {
   "cell_type": "code",
   "execution_count": null,
   "metadata": {
    "deletable": false,
    "editable": false,
    "nbgrader": {
     "cell_type": "code",
     "checksum": "3cedb52caeda03415378a64cf70a383a",
     "grade": true,
     "grade_id": "cell-fe5b03ee82c46adf",
     "locked": true,
     "points": 1,
     "schema_version": 3,
     "solution": false,
     "task": false
    }
   },
   "outputs": [],
   "source": [
    "\"Verify PT is a square matrix.\"\n",
    "PTmatrix = np.array(PT)\n",
    "assert PTmatrix.shape[0] == PTmatrix.shape[1]\n",
    "print(\"Problem 4b Test 1: Success!\")"
   ]
  },
  {
   "cell_type": "code",
   "execution_count": null,
   "metadata": {
    "deletable": false,
    "editable": false,
    "nbgrader": {
     "cell_type": "code",
     "checksum": "f39f1309badc5fd85eab53ccce5b3f06",
     "grade": true,
     "grade_id": "cell-58e9c896dfa8662c",
     "locked": true,
     "points": 2,
     "schema_version": 3,
     "solution": false,
     "task": false
    }
   },
   "outputs": [],
   "source": [
    "\"Verify entries of PT. This cell contains hidden tests.\"\n",
    "PTmatrix = np.array(PT)\n",
    "assert PTmatrix.min() >= 0 and PTmatrix.max() <= 1\n",
    "print(\"Problem 4b Test 2: Success!\")"
   ]
  },
  {
   "cell_type": "markdown",
   "metadata": {},
   "source": [
    "### Problem 4(c)\n",
    "\n",
    "Use the matrix $\\mathbf{S}$ to find the average number of times Pascal plays level 1 until he either quits or finishes the game. Enter this value as `times` in the cell below."
   ]
  },
  {
   "cell_type": "code",
   "execution_count": null,
   "metadata": {
    "deletable": false,
    "nbgrader": {
     "cell_type": "code",
     "checksum": "041f329f78163acdb8dec830d066d665",
     "grade": false,
     "grade_id": "cell-7918991314222c3d",
     "locked": false,
     "schema_version": 3,
     "solution": true,
     "task": false
    }
   },
   "outputs": [],
   "source": [
    "times ="
   ]
  },
  {
   "cell_type": "code",
   "execution_count": null,
   "metadata": {
    "deletable": false,
    "editable": false,
    "nbgrader": {
     "cell_type": "code",
     "checksum": "29776f69561841875c59a0b36623d2ad",
     "grade": true,
     "grade_id": "cell-b386ead2789d4cba",
     "locked": true,
     "points": 1,
     "schema_version": 3,
     "solution": false,
     "task": false
    }
   },
   "outputs": [],
   "source": [
    "\"Verify times is the correct value. This cell contains hidden tests.\"\n",
    "assert times >= 0\n",
    "print(\"Problem 4c Test 1: Success!\")"
   ]
  }
 ],
 "metadata": {
  "kernelspec": {
   "display_name": "Python 3",
   "language": "python",
   "name": "python3"
  },
  "language_info": {
   "codemirror_mode": {
    "name": "ipython",
    "version": 3
   },
   "file_extension": ".py",
   "mimetype": "text/x-python",
   "name": "python",
   "nbconvert_exporter": "python",
   "pygments_lexer": "ipython3",
   "version": "3.7.6"
  }
 },
 "nbformat": 4,
 "nbformat_minor": 4
}
